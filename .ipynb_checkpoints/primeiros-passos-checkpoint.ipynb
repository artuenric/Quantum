{
 "cells": [
  {
   "cell_type": "markdown",
   "id": "c757b585-eade-446e-8916-53ca555a244f",
   "metadata": {
    "tags": []
   },
   "source": [
    "# Como funciona o Qiskit\n",
    "\n",
    "Qiskit é uma ferramenta open-source para trabalhar com computadores quânticos. Utilizamos a linguagem de programação Python para criação destes circuitos, que podem ser executados não só em um simulador, como também em um computador quântico real. Agora, entenderemos o processo de criação de um circuito quântico construindo um exemplo de circuito. Geralmente, temos um passo a passo para esse processo:\n",
    "\n",
    "1. Importar pacotes\n",
    "1. Inicializar variáveis\n",
    "1. Adicionar portas\n",
    "1. Visualizar o circuito\n",
    "1. Simular o experimento\n",
    "1. Visualizar os resultados"
   ]
  },
  {
   "cell_type": "markdown",
   "id": "1209b697-6c8d-449a-b081-69a41ca4156e",
   "metadata": {
    "tags": []
   },
   "source": [
    "## Importando as bibliotecas\n",
    "As ferramentas básicas necessárias para a construção de um circuito quântico:"
   ]
  },
  {
   "cell_type": "code",
   "execution_count": 1,
   "id": "42d2f773-3f07-4c87-bc70-c4d0b8efd4ee",
   "metadata": {
    "tags": []
   },
   "outputs": [],
   "source": [
    "import numpy as np\n",
    "from qiskit import QuantumCircuit, transpile #Tem todas as operações/portas quânticas. \n",
    "from qiskit.providers.aer import QasmSimulator #É o simulador Aer\n",
    "from qiskit.visualization import plot_histogram #Cria histogramas (Gráfico)"
   ]
  },
  {
   "cell_type": "markdown",
   "id": "cfa6f2bf-bebf-48cf-8471-282e9f916bb6",
   "metadata": {},
   "source": [
    "Com ```QuantumCircuit(int, int)```, criamos um circuito e o guardamos em uma variável. Neste exemplo, iniciamos com 2 qubits no estado zero, e 2 bits clássicos também em 0."
   ]
  },
  {
   "cell_type": "code",
   "execution_count": 2,
   "id": "005947ad-48da-49e7-aacd-b084297e112c",
   "metadata": {
    "tags": []
   },
   "outputs": [],
   "source": [
    "circuito = QuantumCircuit(2, 2)"
   ]
  },
  {
   "cell_type": "markdown",
   "id": "1134eba6-e79b-4cfe-93a8-d15fc9f48fbb",
   "metadata": {},
   "source": [
    "## Adicionando portas"
   ]
  },
  {
   "cell_type": "code",
   "execution_count": 3,
   "id": "de0cdb9d-922a-4903-b9ae-1e478d6c3585",
   "metadata": {
    "tags": []
   },
   "outputs": [
    {
     "data": {
      "text/plain": [
       "<qiskit.circuit.instructionset.InstructionSet at 0x7f26d06212a0>"
      ]
     },
     "execution_count": 3,
     "metadata": {},
     "output_type": "execute_result"
    }
   ],
   "source": [
    "circuito.h(0) #Porta de Hadamard\n",
    "circuito.cx(0, 1) #Porta C-not\n",
    "circuito.measure([0, 1], [0, 1]) #Realiza a medição"
   ]
  },
  {
   "cell_type": "markdown",
   "id": "cb64cfbf-4915-472e-a126-199f91f52b49",
   "metadata": {
    "tags": []
   },
   "source": [
    "As portas Hadamard (coloca o qubit em estado de superposição), seguida de uma porta CNOT (no qubit de controle 0 e no qubit de destino 1), colocam os dois qubits nesse estado de Bell:"
   ]
  },
  {
   "cell_type": "markdown",
   "id": "cebf17e5-54b3-40c4-8038-97213b69bcf7",
   "metadata": {},
   "source": [
    "$$\n",
    "    \\left| \\psi\\right> = \\frac{\\left| 00 \\right> + \\left| 11 \\right>}{\\sqrt{2}}\n",
    "$$"
   ]
  },
  {
   "cell_type": "markdown",
   "id": "5abdbabe-d467-43dd-89f6-03f44a823ed9",
   "metadata": {},
   "source": [
    "Nos estados de Bell, os qubits se encontram etrelaçados. Entenda os parâmetros de `mensure` como `([qubits], [bits])`. Ao medir, se passarmos todos os bits quânticos e clássicos, o 1º e o 2º bit receberão o resultado da medição do 1º e 2º qubit respectivamente, e assim por diante."
   ]
  },
  {
   "cell_type": "markdown",
   "id": "e08d0707-55cc-4d82-8bec-504b38f9095f",
   "metadata": {},
   "source": [
    "## Visualizando o circuito"
   ]
  },
  {
   "cell_type": "code",
   "execution_count": 4,
   "id": "8bc96951-89bc-45f1-a17d-c85416d2c232",
   "metadata": {
    "tags": []
   },
   "outputs": [
    {
     "data": {
      "image/png": "[encoded data removed]",
      "text/plain": [
       "<Figure size 454.517x284.278 with 1 Axes>"
      ]
     },
     "execution_count": 4,
     "metadata": {},
     "output_type": "execute_result"
    }
   ],
   "source": [
    "circuito.draw(\"mpl\") # mpl é uma forma diferente de exibição. Tem somente efeito estético, é trivial."
   ]
  },
  {
   "cell_type": "markdown",
   "id": "1c78caaf-b367-4eb3-915e-5bd7c427e8ad",
   "metadata": {},
   "source": [
    "Lemos os circuitos da esquerda para a direita, ou seja, as portas e operações à esquerda são aplicadas primeiro."
   ]
  },
  {
   "cell_type": "markdown",
   "id": "d30728bf-2c44-4356-98cc-01bdfdbbdb64",
   "metadata": {},
   "source": [
    "## Simulando o circuito\n",
    "\n",
    "Como o resultado de uma medição de um qubit é aleatório - mas definido pela probabilidade de estar em um, ou outro estado - o circuito quântico é executado inúmeras vezes para que possamos saber qual o resultado mais apropriado. Dessa forma, com várias medições, é possível visualizar qual estado tiniha maior probabilidade, ou se estavam em superposição."
   ]
  },
  {
   "cell_type": "code",
   "execution_count": 5,
   "id": "8048ea89-7b5a-4d7b-884b-9486ba58ef96",
   "metadata": {
    "tags": []
   },
   "outputs": [],
   "source": [
    "simulador = QasmSimulator()\n",
    "circuito_compilado = transpile(circuito, simulador) #Transforma o programa para \"linguagem de máquina quântica\"\n",
    "job = simulador.run(circuito_compilado, shots=1000) #Roda o programa 1000x. Este número pode ser alterado\n",
    "resultado = job.result() #Guarda um objeto com o resultado da execução\n",
    "contagens = resultado.get_counts(circuito) #Acessar este resultado"
   ]
  },
  {
   "cell_type": "markdown",
   "id": "2719fc4f-a8b6-4a98-956f-352cee0c21fd",
   "metadata": {},
   "source": [
    "O total de contagens para os estados $\\left|00\\right>$ e $\\left|11\\right>$ é:"
   ]
  },
  {
   "cell_type": "code",
   "execution_count": 6,
   "id": "e17a407e-c543-4658-be23-f37ed0a766d1",
   "metadata": {
    "tags": []
   },
   "outputs": [
    {
     "name": "stdout",
     "output_type": "stream",
     "text": [
      "{'11': 476, '00': 524}\n"
     ]
    }
   ],
   "source": [
    "print(contagens) #'estado': quantas vezes ocorreu"
   ]
  },
  {
   "cell_type": "markdown",
   "id": "7d083dbe-3ac1-4323-b09b-d51c7583a36d",
   "metadata": {},
   "source": [
    "Como as a probabilidade é muito próxima de 50%, os qubits estavam em estado de superposição. Nesse sentido, é imortante destacar que, o resultado não é exatamente 50% porque estamos utilizando um simulador. Ou seja, as condições, na vida real, de um qubit interferirão em seu resultado."
   ]
  },
  {
   "cell_type": "markdown",
   "id": "805745a8-83f4-4eb6-8eb8-6e3f4e528157",
   "metadata": {},
   "source": [
    "## Visualizando\n",
    "\n",
    "Com os resultados em mãos, podemos colocá-lo em um histograma para facilitar sua visualização."
   ]
  },
  {
   "cell_type": "code",
   "execution_count": 7,
   "id": "f7d2c938-5c09-4527-968e-ca18c97d2dd9",
   "metadata": {
    "tags": []
   },
   "outputs": [
    {
     "data": {
      "image/png": "[encoded data removed]",
      "text/plain": [
       "<Figure size 700x500 with 1 Axes>"
      ]
     },
     "execution_count": 7,
     "metadata": {},
     "output_type": "execute_result"
    }
   ],
   "source": [
    "plot_histogram(contagens)"
   ]
  },
  {
   "cell_type": "markdown",
   "id": "dcf36cb2-3770-4d30-821c-fc4e955d3c2b",
   "metadata": {},
   "source": [
    "Note que estes resultados correspondem à execução do programa assim que foi executado. Os números estão sujeitos à mudança, e muito provavelmente, irão mudar assim que o algoritimo em python for executado de novo. Experimente fazer isso algumas vezes. Além disso, podemos também alterar o número em `shots` para obtermos diferentes resultados."
   ]
  }
 ],
 "metadata": {
  "kernelspec": {
   "display_name": "Python 3 (ipykernel)",
   "language": "python",
   "name": "python3"
  },
  "language_info": {
   "codemirror_mode": {
    "name": "ipython",
    "version": 3
   },
   "file_extension": ".py",
   "mimetype": "text/x-python",
   "name": "python",
   "nbconvert_exporter": "python",
   "pygments_lexer": "ipython3",
   "version": "3.10.7"
  }
 },
 "nbformat": 4,
 "nbformat_minor": 5
}
