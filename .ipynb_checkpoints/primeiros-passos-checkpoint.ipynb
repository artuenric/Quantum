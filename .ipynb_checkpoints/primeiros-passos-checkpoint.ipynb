{
 "cells": [
  {
   "cell_type": "markdown",
   "id": "c757b585-eade-446e-8916-53ca555a244f",
   "metadata": {},
   "source": [
    "## Importando as bibliotecas\n",
    "As ferramentas básicas necessárias para a construção de um circuito quântico."
   ]
  },
  {
   "cell_type": "code",
   "execution_count": 5,
   "id": "42d2f773-3f07-4c87-bc70-c4d0b8efd4ee",
   "metadata": {
    "tags": []
   },
   "outputs": [],
   "source": [
    "import numpy as np\n",
    "from qiskit import QuantumCircuit #Tem todas as operações/portas quânticas. \n",
    "from qiskit.providers.aer import QasmSimulator #É o simulador Aer\n",
    "from qiskit.visualization import plot_histogram #Cria histogramas (Gráfico)"
   ]
  },
  {
   "cell_type": "markdown",
   "id": "cfa6f2bf-bebf-48cf-8471-282e9f916bb6",
   "metadata": {},
   "source": [
    "Com QuantumCircuit(int, int), criamos um circuito e o guardamos em uma variável. Neste exemplo, iniciamos com 2 qubits no estado zero e 2 bits clássicos também em 0."
   ]
  },
  {
   "cell_type": "code",
   "execution_count": 6,
   "id": "005947ad-48da-49e7-aacd-b084297e112c",
   "metadata": {
    "tags": []
   },
   "outputs": [],
   "source": [
    "circuito = QuantumCircuit(2, 2)"
   ]
  },
  {
   "cell_type": "markdown",
   "id": "1134eba6-e79b-4cfe-93a8-d15fc9f48fbb",
   "metadata": {},
   "source": [
    "## Adicionar portas"
   ]
  },
  {
   "cell_type": "code",
   "execution_count": null,
   "id": "b9059849-1ad7-4307-abc0-d159acd0431b",
   "metadata": {
    "tags": []
   },
   "outputs": [],
   "source": [
    "circuito.h(0) #Porta de Hadamard\n",
    "circuito.cx(0, 1) #Porta C-not\n",
    "circuito.measure([0, 1], [0, 1])"
   ]
  },
  {
   "cell_type": "markdown",
   "id": "cb64cfbf-4915-472e-a126-199f91f52b49",
   "metadata": {
    "tags": []
   },
   "source": [
    "As portas Hadamard (coloca o qubit em estado de superposição), seguida de uma porta CNOT (no qubit de controle 0 e no qubit de destino 1), colocam os dois qubits nesse estado de Bell:"
   ]
  },
  {
   "cell_type": "code",
   "execution_count": null,
   "id": "74301e75-42a6-46ad-af43-6b92b50850f2",
   "metadata": {},
   "outputs": [],
   "source": []
  }
 ],
 "metadata": {
  "kernelspec": {
   "display_name": "Python 3 (ipykernel)",
   "language": "python",
   "name": "python3"
  },
  "language_info": {
   "codemirror_mode": {
    "name": "ipython",
    "version": 3
   },
   "file_extension": ".py",
   "mimetype": "text/x-python",
   "name": "python",
   "nbconvert_exporter": "python",
   "pygments_lexer": "ipython3",
   "version": "3.10.7"
  }
 },
 "nbformat": 4,
 "nbformat_minor": 5
}
